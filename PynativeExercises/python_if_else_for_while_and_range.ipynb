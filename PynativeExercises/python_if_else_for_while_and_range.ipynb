{
 "cells": [
  {
   "cell_type": "code",
   "execution_count": 2,
   "id": "f06947e4",
   "metadata": {},
   "outputs": [
    {
     "name": "stdout",
     "output_type": "stream",
     "text": [
      "1\n",
      "2\n",
      "3\n",
      "4\n",
      "5\n",
      "6\n",
      "7\n",
      "8\n",
      "9\n",
      "10\n"
     ]
    }
   ],
   "source": [
    "#Q1\n",
    "i=1\n",
    "while i<=10:\n",
    "    print(i)\n",
    "    i+=1"
   ]
  },
  {
   "cell_type": "code",
   "execution_count": 15,
   "id": "953c493a",
   "metadata": {},
   "outputs": [
    {
     "name": "stdout",
     "output_type": "stream",
     "text": [
      "1 \n",
      "1 2 \n",
      "1 2 3 \n",
      "1 2 3 4 \n",
      "1 2 3 4 5 \n"
     ]
    }
   ],
   "source": [
    "#Q2\n",
    "for i in range(1,6):\n",
    "    for x in range(1,i+1):\n",
    "        print(x,end=\" \")\n",
    "    print('')\n",
    "    "
   ]
  },
  {
   "cell_type": "code",
   "execution_count": 24,
   "id": "d11dcf09",
   "metadata": {},
   "outputs": [
    {
     "name": "stdout",
     "output_type": "stream",
     "text": [
      "Enter number= 10\n",
      "55\n"
     ]
    }
   ],
   "source": [
    "#Q3\n",
    "number_input=int(input('Enter number= '))\n",
    "def sum_numbers(n1):\n",
    "    sum_output=0\n",
    "    for i in range(1,n1+1):\n",
    "        sum_output+=i\n",
    "    print(sum_output)\n",
    "sum_numbers(number_input)"
   ]
  },
  {
   "cell_type": "code",
   "execution_count": 27,
   "id": "3a4d1b30",
   "metadata": {},
   "outputs": [
    {
     "name": "stdout",
     "output_type": "stream",
     "text": [
      "Enter number= 2\n",
      "2\n",
      "4\n",
      "6\n",
      "8\n",
      "10\n",
      "12\n",
      "14\n",
      "16\n",
      "18\n",
      "20\n"
     ]
    }
   ],
   "source": [
    "#Q4\n",
    "number_input=int(input('Enter number= '))\n",
    "def mult_numbers(n1):\n",
    "    for i in range(1,11):\n",
    "        print(i*n1)\n",
    "mult_numbers(number_input)"
   ]
  },
  {
   "cell_type": "code",
   "execution_count": 29,
   "id": "7eb73932",
   "metadata": {},
   "outputs": [
    {
     "name": "stdout",
     "output_type": "stream",
     "text": [
      "[75, 150, 145]\n"
     ]
    }
   ],
   "source": [
    "#Q5\n",
    "numbers = [12, 75, 150, 180, 145, 525, 50]\n",
    "required_nums=[]\n",
    "for i in numbers:\n",
    "    if i%5==0 and i<=150:\n",
    "        required_nums.append(i)\n",
    "    elif i>500:\n",
    "        break\n",
    "print(required_nums)"
   ]
  },
  {
   "cell_type": "code",
   "execution_count": 32,
   "id": "7c383d0c",
   "metadata": {},
   "outputs": [
    {
     "name": "stdout",
     "output_type": "stream",
     "text": [
      "Please enter number 7654321\n",
      "7\n"
     ]
    }
   ],
   "source": [
    "#Q6\n",
    "number1=int(input('Please enter number '))\n",
    "counter=0\n",
    "while number1!=0:\n",
    "    counter+=1\n",
    "    number1=number1 // 10\n",
    "print(counter)"
   ]
  },
  {
   "cell_type": "code",
   "execution_count": 39,
   "id": "9fe2625b",
   "metadata": {},
   "outputs": [
    {
     "name": "stdout",
     "output_type": "stream",
     "text": [
      "54321\n",
      "4321\n",
      "321\n",
      "21\n",
      "1\n"
     ]
    }
   ],
   "source": [
    "#Q7\n",
    "for i in range(5,0,-1):\n",
    "    for x in range(i,0,-1):\n",
    "        print(x,end=\"\")\n",
    "    print(\"\")"
   ]
  },
  {
   "cell_type": "code",
   "execution_count": 43,
   "id": "f981b8ac",
   "metadata": {},
   "outputs": [
    {
     "name": "stdout",
     "output_type": "stream",
     "text": [
      "50\n",
      "40\n",
      "30\n",
      "20\n",
      "10\n"
     ]
    }
   ],
   "source": [
    "#Q8\n",
    "list1 = [10, 20, 30, 40, 50]\n",
    "for i in list1[::-1]:\n",
    "    print(i)"
   ]
  },
  {
   "cell_type": "code",
   "execution_count": 45,
   "id": "3aead6fb",
   "metadata": {},
   "outputs": [
    {
     "name": "stdout",
     "output_type": "stream",
     "text": [
      "-10\n",
      "-9\n",
      "-8\n",
      "-7\n",
      "-6\n",
      "-5\n",
      "-4\n",
      "-3\n",
      "-2\n",
      "-1\n"
     ]
    }
   ],
   "source": [
    "#Q9\n",
    "for i in range(-10,0):\n",
    "    print(i)"
   ]
  },
  {
   "cell_type": "code",
   "execution_count": 46,
   "id": "b40cfc81",
   "metadata": {},
   "outputs": [
    {
     "name": "stdout",
     "output_type": "stream",
     "text": [
      "0\n",
      "1\n",
      "2\n",
      "3\n",
      "4\n",
      "done\n"
     ]
    }
   ],
   "source": [
    "#Q10\n",
    "for i in range(5):\n",
    "    print(i)\n",
    "else:\n",
    "    print('done')"
   ]
  },
  {
   "cell_type": "code",
   "execution_count": 48,
   "id": "9747f535",
   "metadata": {},
   "outputs": [
    {
     "name": "stdout",
     "output_type": "stream",
     "text": [
      "29\n",
      "31\n",
      "37\n",
      "41\n",
      "43\n",
      "47\n"
     ]
    }
   ],
   "source": [
    "#Q11\n",
    "# range\n",
    "start = 25\n",
    "end = 50\n",
    "for i in range(start,end+1):\n",
    "    for x in range(2,i):\n",
    "        if i%x==0:\n",
    "            break\n",
    "    else:\n",
    "        print(i)"
   ]
  },
  {
   "cell_type": "code",
   "execution_count": 54,
   "id": "39955fa5",
   "metadata": {},
   "outputs": [
    {
     "name": "stdout",
     "output_type": "stream",
     "text": [
      "0 1 1 2 3 5 8 13 21 "
     ]
    }
   ],
   "source": [
    "#Q12\n",
    "first_num=0\n",
    "second_num=1\n",
    "for i in range(1,10):\n",
    "        sum=first_num+second_num\n",
    "        print(first_num,end=' ')\n",
    "        first_num=second_num\n",
    "        second_num=sum\n"
   ]
  },
  {
   "cell_type": "code",
   "execution_count": 58,
   "id": "22a20802",
   "metadata": {},
   "outputs": [
    {
     "name": "stdout",
     "output_type": "stream",
     "text": [
      "Please enter number5\n",
      "120\n"
     ]
    }
   ],
   "source": [
    "#Q13\n",
    "n1=int(input('Please enter number'))\n",
    "factorial=1\n",
    "for i in range(n1,1,-1):\n",
    "    factorial=factorial*i\n",
    "print(factorial)"
   ]
  },
  {
   "cell_type": "code",
   "execution_count": 59,
   "id": "1404c463",
   "metadata": {},
   "outputs": [
    {
     "name": "stdout",
     "output_type": "stream",
     "text": [
      "24567\n"
     ]
    }
   ],
   "source": [
    "#Q14\n",
    "n1=76542\n",
    "n1=str(n1)\n",
    "print(n1[::-1])"
   ]
  },
  {
   "cell_type": "code",
   "execution_count": 65,
   "id": "de0775a6",
   "metadata": {},
   "outputs": [
    {
     "name": "stdout",
     "output_type": "stream",
     "text": [
      "20 40 60 80 100 "
     ]
    }
   ],
   "source": [
    "#Q15\n",
    "my_list = [10, 20, 30, 40, 50, 60, 70, 80, 90, 100]\n",
    "x=len(my_list)\n",
    "for i in range(0,x,1):\n",
    "    if i%2!=0:\n",
    "        print(my_list[i],end=' ')"
   ]
  },
  {
   "cell_type": "code",
   "execution_count": null,
   "id": "d65bac21",
   "metadata": {},
   "outputs": [],
   "source": []
  }
 ],
 "metadata": {
  "kernelspec": {
   "display_name": "Python 3 (ipykernel)",
   "language": "python",
   "name": "python3"
  },
  "language_info": {
   "codemirror_mode": {
    "name": "ipython",
    "version": 3
   },
   "file_extension": ".py",
   "mimetype": "text/x-python",
   "name": "python",
   "nbconvert_exporter": "python",
   "pygments_lexer": "ipython3",
   "version": "3.9.0"
  }
 },
 "nbformat": 4,
 "nbformat_minor": 5
}
