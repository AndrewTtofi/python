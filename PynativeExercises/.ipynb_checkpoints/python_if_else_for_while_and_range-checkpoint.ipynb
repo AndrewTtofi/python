{
 "cells": [
  {
   "cell_type": "code",
   "execution_count": 2,
   "id": "06b7de6e",
   "metadata": {},
   "outputs": [
    {
     "name": "stdout",
     "output_type": "stream",
     "text": [
      "1\n",
      "2\n",
      "3\n",
      "4\n",
      "5\n",
      "6\n",
      "7\n",
      "8\n",
      "9\n",
      "10\n"
     ]
    }
   ],
   "source": [
    "#Q1\n",
    "i=1\n",
    "while i<=10:\n",
    "    print(i)\n",
    "    i+=1"
   ]
  },
  {
   "cell_type": "code",
   "execution_count": 15,
   "id": "9a0456dd",
   "metadata": {},
   "outputs": [
    {
     "name": "stdout",
     "output_type": "stream",
     "text": [
      "1 \n",
      "1 2 \n",
      "1 2 3 \n",
      "1 2 3 4 \n",
      "1 2 3 4 5 \n"
     ]
    }
   ],
   "source": [
    "#Q2\n",
    "for i in range(1,6):\n",
    "    for x in range(1,i+1):\n",
    "        print(x,end=\" \")\n",
    "    print('')\n",
    "    "
   ]
  },
  {
   "cell_type": "code",
   "execution_count": 24,
   "id": "7a71676e",
   "metadata": {},
   "outputs": [
    {
     "name": "stdout",
     "output_type": "stream",
     "text": [
      "Enter number= 10\n",
      "55\n"
     ]
    }
   ],
   "source": [
    "#Q3\n",
    "number_input=int(input('Enter number= '))\n",
    "def sum_numbers(n1):\n",
    "    sum_output=0\n",
    "    for i in range(1,n1+1):\n",
    "        sum_output+=i\n",
    "    print(sum_output)\n",
    "sum_numbers(number_input)"
   ]
  },
  {
   "cell_type": "code",
   "execution_count": 27,
   "id": "b4c4cf46",
   "metadata": {},
   "outputs": [
    {
     "name": "stdout",
     "output_type": "stream",
     "text": [
      "Enter number= 2\n",
      "2\n",
      "4\n",
      "6\n",
      "8\n",
      "10\n",
      "12\n",
      "14\n",
      "16\n",
      "18\n",
      "20\n"
     ]
    }
   ],
   "source": [
    "#Q4\n",
    "number_input=int(input('Enter number= '))\n",
    "def mult_numbers(n1):\n",
    "    for i in range(1,11):\n",
    "        print(i*n1)\n",
    "mult_numbers(number_input)"
   ]
  },
  {
   "cell_type": "code",
   "execution_count": 29,
   "id": "901d6f2a",
   "metadata": {},
   "outputs": [
    {
     "name": "stdout",
     "output_type": "stream",
     "text": [
      "[75, 150, 145]\n"
     ]
    }
   ],
   "source": [
    "#Q5\n",
    "numbers = [12, 75, 150, 180, 145, 525, 50]\n",
    "required_nums=[]\n",
    "for i in numbers:\n",
    "    if i%5==0 and i<=150:\n",
    "        required_nums.append(i)\n",
    "    elif i>500:\n",
    "        break\n",
    "print(required_nums)"
   ]
  },
  {
   "cell_type": "code",
   "execution_count": 32,
   "id": "49d959b6",
   "metadata": {},
   "outputs": [
    {
     "name": "stdout",
     "output_type": "stream",
     "text": [
      "Please enter number 7654321\n",
      "7\n"
     ]
    }
   ],
   "source": [
    "#Q6\n",
    "number1=int(input('Please enter number '))\n",
    "counter=0\n",
    "while number1!=0:\n",
    "    counter+=1\n",
    "    number1=number1 // 10\n",
    "print(counter)"
   ]
  },
  {
   "cell_type": "code",
   "execution_count": 39,
   "id": "29feb1cb",
   "metadata": {},
   "outputs": [
    {
     "name": "stdout",
     "output_type": "stream",
     "text": [
      "54321\n",
      "4321\n",
      "321\n",
      "21\n",
      "1\n"
     ]
    }
   ],
   "source": [
    "#Q7\n",
    "for i in range(5,0,-1):\n",
    "    for x in range(i,0,-1):\n",
    "        print(x,end=\"\")\n",
    "    print(\"\")"
   ]
  },
  {
   "cell_type": "code",
   "execution_count": 43,
   "id": "13874824",
   "metadata": {},
   "outputs": [
    {
     "name": "stdout",
     "output_type": "stream",
     "text": [
      "50\n",
      "40\n",
      "30\n",
      "20\n",
      "10\n"
     ]
    }
   ],
   "source": [
    "#Q8\n",
    "list1 = [10, 20, 30, 40, 50]\n",
    "for i in list1[::-1]:\n",
    "    print(i)"
   ]
  },
  {
   "cell_type": "code",
   "execution_count": 45,
   "id": "ddaf7274",
   "metadata": {},
   "outputs": [
    {
     "name": "stdout",
     "output_type": "stream",
     "text": [
      "-10\n",
      "-9\n",
      "-8\n",
      "-7\n",
      "-6\n",
      "-5\n",
      "-4\n",
      "-3\n",
      "-2\n",
      "-1\n"
     ]
    }
   ],
   "source": [
    "#Q9\n",
    "for i in range(-10,0):\n",
    "    print(i)"
   ]
  },
  {
   "cell_type": "code",
   "execution_count": 46,
   "id": "db1ea124",
   "metadata": {},
   "outputs": [
    {
     "name": "stdout",
     "output_type": "stream",
     "text": [
      "0\n",
      "1\n",
      "2\n",
      "3\n",
      "4\n",
      "done\n"
     ]
    }
   ],
   "source": [
    "#Q10\n",
    "for i in range(5):\n",
    "    print(i)\n",
    "else:\n",
    "    print('done')"
   ]
  },
  {
   "cell_type": "code",
   "execution_count": null,
   "id": "dc74082e",
   "metadata": {},
   "outputs": [],
   "source": []
  }
 ],
 "metadata": {
  "kernelspec": {
   "display_name": "Python 3 (ipykernel)",
   "language": "python",
   "name": "python3"
  },
  "language_info": {
   "codemirror_mode": {
    "name": "ipython",
    "version": 3
   },
   "file_extension": ".py",
   "mimetype": "text/x-python",
   "name": "python",
   "nbconvert_exporter": "python",
   "pygments_lexer": "ipython3",
   "version": "3.9.0"
  }
 },
 "nbformat": 4,
 "nbformat_minor": 5
}
