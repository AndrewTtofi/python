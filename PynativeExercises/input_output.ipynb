{
 "cells": [
  {
   "cell_type": "code",
   "execution_count": 1,
   "id": "e43d20a0",
   "metadata": {},
   "outputs": [
    {
     "name": "stdout",
     "output_type": "stream",
     "text": [
      "Enter number 1\n"
     ]
    }
   ],
   "source": [
    "#Q1\n",
    "n1=int(input('Enter number '))"
   ]
  },
  {
   "cell_type": "code",
   "execution_count": 2,
   "id": "a8593eee",
   "metadata": {},
   "outputs": [
    {
     "name": "stdout",
     "output_type": "stream",
     "text": [
      "Name**Is**Andrew\n"
     ]
    }
   ],
   "source": [
    "#Q2\n",
    "print('Name', 'Is','Andrew', sep='**')"
   ]
  },
  {
   "cell_type": "code",
   "execution_count": 5,
   "id": "0087e76a",
   "metadata": {},
   "outputs": [
    {
     "data": {
      "text/plain": [
       "'0o10'"
      ]
     },
     "execution_count": 5,
     "metadata": {},
     "output_type": "execute_result"
    }
   ],
   "source": [
    "#Q3\n",
    "oct(8)"
   ]
  },
  {
   "cell_type": "code",
   "execution_count": 7,
   "id": "1634c8b0",
   "metadata": {},
   "outputs": [
    {
     "name": "stdout",
     "output_type": "stream",
     "text": [
      "458.54\n"
     ]
    }
   ],
   "source": [
    "#Q4\n",
    "num = 458.541315\n",
    "f = '{0:.5g}'.format(num)\n",
    "print(f)"
   ]
  },
  {
   "cell_type": "code",
   "execution_count": 11,
   "id": "35d521a5",
   "metadata": {},
   "outputs": [
    {
     "name": "stdout",
     "output_type": "stream",
     "text": [
      "Enter number1.2\n",
      "Enter number3.4\n",
      "Enter number5.6\n",
      "Enter number7.8\n",
      "Enter number34.5\n",
      "[1.2, 3.4, 5.6, 7.8, 34.5]\n"
     ]
    }
   ],
   "source": [
    "list1=[]\n",
    "for i in range(1,6):\n",
    "    num=float(input('Enter number'))\n",
    "    list1.append(num)\n",
    "print(list1)"
   ]
  },
  {
   "cell_type": "code",
   "execution_count": 15,
   "id": "091d537a",
   "metadata": {},
   "outputs": [
    {
     "name": "stdout",
     "output_type": "stream",
     "text": [
      "line1 \n",
      "\n",
      "line2 \n",
      "\n",
      "line3 \n",
      "\n",
      "line4 \n",
      "\n",
      "line6 \n",
      "\n",
      "line7 \n",
      "\n"
     ]
    }
   ],
   "source": [
    "#Q6\n",
    "log=open('/Users/Andreas/Desktop/python/PynativeExercises/newfile.txt')\n",
    "list1=[]\n",
    "for i in log:\n",
    "    list1.append(i[0:5])\n",
    "for x in list1:\n",
    "    if x!='line5':\n",
    "        print(x,'\\n')"
   ]
  },
  {
   "cell_type": "code",
   "execution_count": 16,
   "id": "1e5e1f8e",
   "metadata": {},
   "outputs": [
    {
     "name": "stdout",
     "output_type": "stream",
     "text": [
      "Enter name Andreas\n",
      "Enter name Show\n",
      "Enter name Melani\n",
      "Name 1 :  Andreas\n",
      "Name 2 :  Show\n",
      "Name 3 :  Melani\n"
     ]
    }
   ],
   "source": [
    "#Q7\n",
    "list1=[]\n",
    "x=1\n",
    "for i in range(0,3):\n",
    "    str=input('Enter name ')\n",
    "    list1.append(str)\n",
    "for i in list1:\n",
    "    print('Name',x,\": \",i)\n",
    "    x+=1\n",
    "    "
   ]
  },
  {
   "cell_type": "code",
   "execution_count": 18,
   "id": "ca4aedcb",
   "metadata": {},
   "outputs": [
    {
     "name": "stdout",
     "output_type": "stream",
     "text": [
      "I have 1000 dollars so I can buy 3 football for 450.000000 dollars.\n"
     ]
    }
   ],
   "source": [
    "#Q8\n",
    "#I have 1000 dollars so I can buy 3 football for 450.00 dollars.\n",
    "totalMoney = 1000\n",
    "quantity = 3\n",
    "price = 450\n",
    "sentence='I have {0} dollars so I can buy {1} football for {2:.6f} dollars.'\n",
    "print(sentence.format(totalMoney,quantity,price))"
   ]
  },
  {
   "cell_type": "code",
   "execution_count": 21,
   "id": "2fdd82fe",
   "metadata": {},
   "outputs": [
    {
     "name": "stdout",
     "output_type": "stream",
     "text": [
      "file is not empty, file size is  42\n"
     ]
    }
   ],
   "source": [
    "import os\n",
    "size = os.stat(\"/Users/Andreas/Desktop/python/PynativeExercises/newfile.txt\").st_size\n",
    "if size == 0:\n",
    "    print('file is empty')\n",
    "else:\n",
    "    print('file is not empty, file size is ',size)"
   ]
  },
  {
   "cell_type": "code",
   "execution_count": null,
   "id": "2e4983d0",
   "metadata": {},
   "outputs": [],
   "source": []
  }
 ],
 "metadata": {
  "kernelspec": {
   "display_name": "Python 3 (ipykernel)",
   "language": "python",
   "name": "python3"
  },
  "language_info": {
   "codemirror_mode": {
    "name": "ipython",
    "version": 3
   },
   "file_extension": ".py",
   "mimetype": "text/x-python",
   "name": "python",
   "nbconvert_exporter": "python",
   "pygments_lexer": "ipython3",
   "version": "3.9.0"
  }
 },
 "nbformat": 4,
 "nbformat_minor": 5
}
