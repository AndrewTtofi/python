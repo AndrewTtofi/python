{
 "cells": [
  {
   "cell_type": "code",
   "execution_count": 2,
   "id": "a24eacc6",
   "metadata": {},
   "outputs": [],
   "source": [
    "#https://pynative.com/python-exercises-with-solutions/ <- link of the exercises"
   ]
  },
  {
   "cell_type": "code",
   "execution_count": 3,
   "id": "f7c9744a",
   "metadata": {},
   "outputs": [],
   "source": [
    "#Starting with basics -> https://pynative.com/python-basic-exercise-for-beginners/"
   ]
  },
  {
   "cell_type": "code",
   "execution_count": 6,
   "id": "3fdacbec",
   "metadata": {},
   "outputs": [
    {
     "name": "stdout",
     "output_type": "stream",
     "text": [
      "The result is  70\n"
     ]
    }
   ],
   "source": [
    "#Q1\n",
    "number1 = 20\n",
    "number2 = 30\n",
    "##################\n",
    "number3 = 40\n",
    "number4 = 30\n",
    "\n",
    "def multiplication_sum(n1,n2):\n",
    "    product=n1*n2\n",
    "    if product<=1000:\n",
    "        print('The result is ',product)\n",
    "    else:\n",
    "        print('The result is ',n1+n2)\n",
    "multiplication_sum(number3,number4)"
   ]
  },
  {
   "cell_type": "code",
   "execution_count": 10,
   "id": "c2bd8c58",
   "metadata": {},
   "outputs": [
    {
     "name": "stdout",
     "output_type": "stream",
     "text": [
      "Current Number is =  0  Previous Number is=  0  Sum is=  0\n",
      "Current Number is =  1  Previous Number is=  0  Sum is=  1\n",
      "Current Number is =  2  Previous Number is=  1  Sum is=  3\n",
      "Current Number is =  3  Previous Number is=  2  Sum is=  5\n",
      "Current Number is =  4  Previous Number is=  3  Sum is=  7\n",
      "Current Number is =  5  Previous Number is=  4  Sum is=  9\n",
      "Current Number is =  6  Previous Number is=  5  Sum is=  11\n",
      "Current Number is =  7  Previous Number is=  6  Sum is=  13\n",
      "Current Number is =  8  Previous Number is=  7  Sum is=  15\n",
      "Current Number is =  9  Previous Number is=  8  Sum is=  17\n",
      "Current Number is =  10  Previous Number is=  9  Sum is=  19\n"
     ]
    }
   ],
   "source": [
    "#Q2\n",
    "previous_number=0\n",
    "current_number=0\n",
    "for i in range(0,11):\n",
    "    current_number=i\n",
    "    sumpc=current_number+previous_number\n",
    "    print('Current Number is = ', current_number, ' Previous Number is= ', previous_number, ' Sum is= ',sumpc)\n",
    "    previous_number=i"
   ]
  },
  {
   "cell_type": "code",
   "execution_count": null,
   "id": "0c3c116c",
   "metadata": {},
   "outputs": [],
   "source": [
    "#Q3\n"
   ]
  },
  {
   "cell_type": "code",
   "execution_count": null,
   "id": "ded0600f",
   "metadata": {},
   "outputs": [],
   "source": []
  }
 ],
 "metadata": {
  "kernelspec": {
   "display_name": "Python 3 (ipykernel)",
   "language": "python",
   "name": "python3"
  },
  "language_info": {
   "codemirror_mode": {
    "name": "ipython",
    "version": 3
   },
   "file_extension": ".py",
   "mimetype": "text/x-python",
   "name": "python",
   "nbconvert_exporter": "python",
   "pygments_lexer": "ipython3",
   "version": "3.9.0"
  }
 },
 "nbformat": 4,
 "nbformat_minor": 5
}
