{
 "cells": [
  {
   "cell_type": "code",
   "execution_count": 2,
   "id": "a24eacc6",
   "metadata": {},
   "outputs": [],
   "source": [
    "#https://pynative.com/python-exercises-with-solutions/ <- link of the exercises"
   ]
  },
  {
   "cell_type": "code",
   "execution_count": 3,
   "id": "f7c9744a",
   "metadata": {},
   "outputs": [],
   "source": [
    "#Starting with basics -> https://pynative.com/python-basic-exercise-for-beginners/"
   ]
  },
  {
   "cell_type": "code",
   "execution_count": 6,
   "id": "3fdacbec",
   "metadata": {},
   "outputs": [
    {
     "name": "stdout",
     "output_type": "stream",
     "text": [
      "The result is  70\n"
     ]
    }
   ],
   "source": [
    "#Q1\n",
    "number1 = 20\n",
    "number2 = 30\n",
    "##################\n",
    "number3 = 40\n",
    "number4 = 30\n",
    "\n",
    "def multiplication_sum(n1,n2):\n",
    "    product=n1*n2\n",
    "    if product<=1000:\n",
    "        print('The result is ',product)\n",
    "    else:\n",
    "        print('The result is ',n1+n2)\n",
    "multiplication_sum(number3,number4)"
   ]
  },
  {
   "cell_type": "code",
   "execution_count": 10,
   "id": "c2bd8c58",
   "metadata": {},
   "outputs": [
    {
     "name": "stdout",
     "output_type": "stream",
     "text": [
      "Current Number is =  0  Previous Number is=  0  Sum is=  0\n",
      "Current Number is =  1  Previous Number is=  0  Sum is=  1\n",
      "Current Number is =  2  Previous Number is=  1  Sum is=  3\n",
      "Current Number is =  3  Previous Number is=  2  Sum is=  5\n",
      "Current Number is =  4  Previous Number is=  3  Sum is=  7\n",
      "Current Number is =  5  Previous Number is=  4  Sum is=  9\n",
      "Current Number is =  6  Previous Number is=  5  Sum is=  11\n",
      "Current Number is =  7  Previous Number is=  6  Sum is=  13\n",
      "Current Number is =  8  Previous Number is=  7  Sum is=  15\n",
      "Current Number is =  9  Previous Number is=  8  Sum is=  17\n",
      "Current Number is =  10  Previous Number is=  9  Sum is=  19\n"
     ]
    }
   ],
   "source": [
    "#Q2\n",
    "previous_number=0\n",
    "current_number=0\n",
    "for i in range(0,11):\n",
    "    current_number=i\n",
    "    sumpc=current_number+previous_number\n",
    "    print('Current Number is = ', current_number, ' Previous Number is= ', previous_number, ' Sum is= ',sumpc)\n",
    "    previous_number=i"
   ]
  },
  {
   "cell_type": "code",
   "execution_count": 5,
   "id": "0c3c116c",
   "metadata": {},
   "outputs": [
    {
     "name": "stdout",
     "output_type": "stream",
     "text": [
      "Enter string pynative\n",
      "p\n",
      "n\n",
      "t\n",
      "v\n"
     ]
    }
   ],
   "source": [
    "#Q3\n",
    "original_string=input('Enter string ')\n",
    "str=original_string[0::2]\n",
    "for i in str:\n",
    "    print(i)"
   ]
  },
  {
   "cell_type": "code",
   "execution_count": 8,
   "id": "ded0600f",
   "metadata": {},
   "outputs": [
    {
     "name": "stdout",
     "output_type": "stream",
     "text": [
      "Enter characters to remove= 4\n",
      "Enter the word to manipulate= pynative\n",
      "tive\n"
     ]
    }
   ],
   "source": [
    "#Q4\n",
    "chr_remove=input('Enter characters to remove= ')\n",
    "str_man=input('Enter the word to manipulate= ')\n",
    "def remove_chars(n1,str1):\n",
    "    n1=int(n1)\n",
    "    print(str1[n1::])\n",
    "\n",
    "remove_chars(chr_remove,str_man)"
   ]
  },
  {
   "cell_type": "code",
   "execution_count": 10,
   "id": "35b2f05d",
   "metadata": {},
   "outputs": [
    {
     "name": "stdout",
     "output_type": "stream",
     "text": [
      "Result is  False\n"
     ]
    }
   ],
   "source": [
    "#Q5\n",
    "numbers_x = [10, 20, 30, 40, 10]\n",
    "numbers_y = [75, 65, 35, 75, 30]\n",
    "\n",
    "def check_first_last(n1,n2):\n",
    "    if n1==n2:\n",
    "        x=True\n",
    "    else:\n",
    "        x=False\n",
    "    return x\n",
    "first_num=numbers_x[0]\n",
    "last_num=numbers_y[-1]\n",
    "\n",
    "print('Result is ',check_first_last(first_num,last_num))"
   ]
  },
  {
   "cell_type": "code",
   "execution_count": 12,
   "id": "0d45f7d0",
   "metadata": {},
   "outputs": [
    {
     "name": "stdout",
     "output_type": "stream",
     "text": [
      "Given list is  [10, 20, 33, 46, 55] \n",
      "Divisible by 5\n",
      "10\n",
      "20\n",
      "55\n"
     ]
    }
   ],
   "source": [
    "#Q6\n",
    "given_list=[10, 20, 33, 46, 55]\n",
    "print('Given list is  [10, 20, 33, 46, 55] \\nDivisible by 5')\n",
    "for i in given_list:\n",
    "    if i%5==0:\n",
    "        print(i)"
   ]
  },
  {
   "cell_type": "code",
   "execution_count": 17,
   "id": "fa334b96",
   "metadata": {},
   "outputs": [
    {
     "name": "stdout",
     "output_type": "stream",
     "text": [
      "Emma appears  2\n"
     ]
    }
   ],
   "source": [
    "#Q7\n",
    "str_x = \"Emma is good developer. Emma is a writer\"\n",
    "print('Emma appears ',str_x.count('Emma'))"
   ]
  },
  {
   "cell_type": "code",
   "execution_count": 25,
   "id": "8098b486",
   "metadata": {},
   "outputs": [
    {
     "name": "stdout",
     "output_type": "stream",
     "text": [
      "1 \n",
      "\n",
      "2 2 \n",
      "\n",
      "3 3 3 \n",
      "\n",
      "4 4 4 4 \n",
      "\n",
      "5 5 5 5 5 \n",
      "\n"
     ]
    }
   ],
   "source": [
    "#Q8\n",
    "for i in range(1,6):\n",
    "    print(i,end=' ')\n",
    "    for x in range(1,i):\n",
    "        print(i,end=' ')\n",
    "    print('\\n')"
   ]
  },
  {
   "cell_type": "code",
   "execution_count": 30,
   "id": "3f781f5e",
   "metadata": {},
   "outputs": [
    {
     "name": "stdout",
     "output_type": "stream",
     "text": [
      "Enter number= 717\n",
      "original number is  717\n",
      "Yes. given number is palindrome number\n"
     ]
    }
   ],
   "source": [
    "#Q9\n",
    "pali_number=input('Enter number= ')\n",
    "def f_pali_number(n1):\n",
    "    rev_pali_number=n1[::-1]\n",
    "    print('original number is ',n1)\n",
    "    if n1==rev_pali_number:\n",
    "        print('Yes. given number is palindrome number')\n",
    "    else:\n",
    "        print('No. given number is not palindrome number')\n",
    "\n",
    "f_pali_number(pali_number)"
   ]
  },
  {
   "cell_type": "code",
   "execution_count": 33,
   "id": "6d174f59",
   "metadata": {},
   "outputs": [
    {
     "name": "stdout",
     "output_type": "stream",
     "text": [
      "[25, 35, 40, 60, 90]\n"
     ]
    }
   ],
   "source": [
    "#Q10\n",
    "list1 = [10, 20, 25, 30, 35]\n",
    "list2 = [40, 45, 60, 75, 90]\n",
    "list3 = []\n",
    "for i in list1:\n",
    "    if i%2!=0:\n",
    "       list3.append(i)\n",
    "for i in list2:\n",
    "    if i%2==0:\n",
    "       list3.append(i) \n",
    "print(list3)"
   ]
  },
  {
   "cell_type": "code",
   "execution_count": 34,
   "id": "a1338bcf",
   "metadata": {},
   "outputs": [
    {
     "name": "stdout",
     "output_type": "stream",
     "text": [
      "Enter new integer= 1568\n",
      "8651\n"
     ]
    }
   ],
   "source": [
    "#Q11\n",
    "new_integer=input('Enter new integer= ')\n",
    "print(new_integer[::-1])"
   ]
  },
  {
   "cell_type": "code",
   "execution_count": 40,
   "id": "c9ad1662",
   "metadata": {},
   "outputs": [
    {
     "name": "stdout",
     "output_type": "stream",
     "text": [
      "Enter gross amount= 15000\n",
      "The tax to be paid is  500.0\n"
     ]
    }
   ],
   "source": [
    "#Q12\n",
    "gross_amount=input('Enter gross amount= ')\n",
    "def calculate_tax(n1):\n",
    "    n1=int(n1)\n",
    "    if n1<=10000:\n",
    "        tax=0\n",
    "    elif n1<=20000:\n",
    "        tax=(n1-10000)*10/100\n",
    "    else:\n",
    "        tax=(n1-20000)*20/100+1000\n",
    "    return tax\n",
    "print('The tax to be paid is ',calculate_tax(gross_amount))"
   ]
  },
  {
   "cell_type": "code",
   "execution_count": null,
   "id": "d177ce10",
   "metadata": {},
   "outputs": [],
   "source": []
  }
 ],
 "metadata": {
  "kernelspec": {
   "display_name": "Python 3 (ipykernel)",
   "language": "python",
   "name": "python3"
  },
  "language_info": {
   "codemirror_mode": {
    "name": "ipython",
    "version": 3
   },
   "file_extension": ".py",
   "mimetype": "text/x-python",
   "name": "python",
   "nbconvert_exporter": "python",
   "pygments_lexer": "ipython3",
   "version": "3.9.0"
  }
 },
 "nbformat": 4,
 "nbformat_minor": 5
}
